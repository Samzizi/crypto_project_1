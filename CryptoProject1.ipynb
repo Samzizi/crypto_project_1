{
  "nbformat": 4,
  "nbformat_minor": 0,
  "metadata": {
    "colab": {
      "provenance": []
    },
    "kernelspec": {
      "name": "python3",
      "display_name": "Python 3"
    },
    "language_info": {
      "name": "python"
    }
  },
  "cells": [
    {
      "cell_type": "markdown",
      "source": [
        "This is my new simple fun project\n",
        "it uses the CMC (CoinMarketCap) API to get the prices of the coins\n",
        "in this case, i have used it to get the price of BTC and ETC\n",
        "you can choose between them to get your desired output."
      ],
      "metadata": {
        "id": "6yHB6JcH3lvz"
      }
    },
    {
      "cell_type": "code",
      "source": [
        "from requests import Session\n",
        "import json\n",
        "\n",
        "\n",
        "url = 'https://pro-api.coinmarketcap.com/v2/cryptocurrency/quotes/latest'\n",
        "\n",
        "session = Session()\n",
        "headers = {\n",
        "    'Accepts': 'application/json',\n",
        "    'X-CMC_PRO_API_KEY': '8643fc0e-2c6f-4705-8318-505cfafe1bb1'\n",
        "}\n",
        "session.headers.update(headers)\n",
        "\n",
        "while True:\n",
        "    crypto_choice = input('Enter your desired cryptocurrency, please choose between Bitcoin and Ethereum Classic: ').lower()\n",
        "\n",
        "    if crypto_choice in [\"bitcoin\", \"ethereum classic\", \"btc\", \"etc\"]:\n",
        "        break\n",
        "    else:\n",
        "        print(\"Invalid cryptocurrency choice, please choose Bitcoin and Ethereum Classic.\")\n",
        "\n",
        "if crypto_choice == \"bitcoin\" or crypto_choice == \"btc\":\n",
        "    parameters = {\n",
        "        'slug': 'bitcoin',\n",
        "        'convert': 'USD'\n",
        "    }\n",
        "    crypto_name = \"Bitcoin (BTC)\"\n",
        "    crypto_id = '1'\n",
        "elif crypto_choice == \"ethereum classic\" or crypto_choice == \"etc\":\n",
        "    parameters = {\n",
        "        'slug': 'ethereum-classic',\n",
        "        'convert': 'USD'\n",
        "    }\n",
        "    crypto_name = \"Ethereum Classic (ETC)\"\n",
        "    crypto_id = '1321'\n",
        "\n",
        "response = session.get(url, params=parameters)\n",
        "data = json.loads(response.text)['data'][crypto_id]['quote']['USD']\n",
        "\n",
        "price = f\"${data['price']:.2f}\"\n",
        "volume_24h = f\"${data['volume_24h']:.2f}\"\n",
        "percent_change_1h = f\"{data['percent_change_1h']:.2f}%\"\n",
        "percent_change_24h = f\"{data['percent_change_24h']:.2f}%\"\n",
        "percent_change_7d = f\"{data['percent_change_7d']:.2f}%\"\n",
        "\n",
        "print(f\"Crypto Name: {crypto_name}\")\n",
        "print(f\"Price: {price}\")\n",
        "print(f\"24h Volume: {volume_24h}\")\n",
        "print(f\"1h Change: {percent_change_1h}\")\n",
        "print(f\"24h Change: {percent_change_24h}\")\n",
        "print(f\"7d Change: {percent_change_7d}\")\n",
        "\n",
        "def stop_loss(data):\n",
        "\n",
        "    # BL is Buy limit, SL is Sell limit, BS is Buy stop, SS is Sell stop\n",
        "    my_price = float(data['price'])\n",
        "\n",
        "    while True:\n",
        "        stop_loss_choice = input(\"Enter your desired stop loss, (BL, SL, BS, SS): \").lower()\n",
        "\n",
        "        if stop_loss_choice in [\"bl\", \"buy limit\"]:\n",
        "            set_price_limit = float(input(\"Enter the price you want to set: \"))\n",
        "            if my_price <= set_price_limit:\n",
        "                print(\"Your Buy limit has hit your desired price. Buy now!\")\n",
        "            else:\n",
        "                print(\"Your Buy limit has not yet hit your desired price. Please wait..\")\n",
        "            break\n",
        "\n",
        "        elif stop_loss_choice in [\"sl\", \"sell limit\"]:\n",
        "            set_price_limit = float(input(\"Enter the price you want to set: \"))\n",
        "            if my_price >= set_price_limit:\n",
        "                print(\"Your Sell limit has hit your desired price. Sell now!\")\n",
        "            else:\n",
        "                print(\"Your Sell limit has not hit your desired price. Please wait..\")\n",
        "            break\n",
        "\n",
        "        elif stop_loss_choice in [\"bs\", \"buy stop\"]:\n",
        "            set_price_limit = float(input(\"Enter the price you want to set: \"))\n",
        "            if my_price >= set_price_limit:\n",
        "                print(\"Your Buy stop has hit your desired price. Buy now!\")\n",
        "            else:\n",
        "                print(\"Your Buy stop has not yet hit your desired price. Please wait..\")\n",
        "            break\n",
        "\n",
        "        elif stop_loss_choice in [\"ss\", \"sell stop\"]:\n",
        "            set_price_limit = float(input(\"Enter the price you want to set: \"))\n",
        "            if my_price <= set_price_limit:\n",
        "                print(\"Your Sell stop has hit your desired price. Sell now!\")\n",
        "            else:\n",
        "                print(\"Your Sell stop has not hit your desired price. Please wait..\")\n",
        "            break\n",
        "\n",
        "        else:\n",
        "            print(\"Invalid choice. Please choose between (BL, SL, BS, SS).\")"
      ],
      "metadata": {
        "colab": {
          "base_uri": "https://localhost:8080/"
        },
        "id": "4OpHutZ4V4Cd",
        "outputId": "48d4b510-9c6a-4f90-e6af-4a14098c60ac"
      },
      "execution_count": 15,
      "outputs": [
        {
          "output_type": "stream",
          "name": "stdout",
          "text": [
            "Enter your desired cryptocurrency, please choose between Bitcoin and Ethereum Classic: etc\n",
            "Crypto Name: Ethereum Classic (ETC)\n",
            "Price: $36.66\n",
            "24h Volume: $1428912638.11\n",
            "1h Change: -1.83%\n",
            "24h Change: -5.31%\n",
            "7d Change: 28.11%\n"
          ]
        }
      ]
    },
    {
      "cell_type": "code",
      "source": [
        "stop_loss(data)"
      ],
      "metadata": {
        "id": "UYq15WfpdMlL",
        "colab": {
          "base_uri": "https://localhost:8080/"
        },
        "outputId": "3e756ea5-1c9d-4c84-dd7d-8088fa0ab34b"
      },
      "execution_count": 16,
      "outputs": [
        {
          "output_type": "stream",
          "name": "stdout",
          "text": [
            "Enter your desired stop loss, (BL, SL, BS, SS): bl\n",
            "Enter the price you want to set: 32.15\n",
            "Your Buy limit has not yet hit your desired price. Please wait..\n"
          ]
        }
      ]
    },
    {
      "cell_type": "code",
      "source": [
        "stop_loss(data)"
      ],
      "metadata": {
        "id": "wGh_P7HuZtsA"
      },
      "execution_count": null,
      "outputs": []
    },
    {
      "cell_type": "markdown",
      "source": [
        "And this is the stop loss function\n",
        "you can choose between a variety of options\n",
        "for example:\n",
        "Buy Limit\n",
        "(this can be easier for you if you are familiar with the order types)\n",
        "this is how it works,\n",
        "it works by you typing in the number you want to buy it at (by the price going down)\n",
        "and once you run the stop loss function,\n",
        "it tells you if you should buy or not\n",
        "\n",
        "(i will update this code soon)"
      ],
      "metadata": {
        "id": "ntkC7GAj4Jea"
      }
    }
  ]
}